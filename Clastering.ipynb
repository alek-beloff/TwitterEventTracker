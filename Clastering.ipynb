{
 "cells": [
  {
   "cell_type": "code",
   "execution_count": 22,
   "metadata": {},
   "outputs": [],
   "source": [
    "import scipy.spatial as spatial\n",
    "import numpy as np\n",
    "import re\n",
    "import json\n",
    "import codecs\n",
    "from nltk.corpus import stopwords"
   ]
  },
  {
   "cell_type": "code",
   "execution_count": 136,
   "metadata": {},
   "outputs": [
    {
     "name": "stderr",
     "output_type": "stream",
     "text": [
      "/Users/alexander/anaconda2/lib/python2.7/site-packages/ipykernel_launcher.py:67: DeprecationWarning: elementwise == comparison failed; this will raise an error in the future.\n"
     ]
    },
    {
     "name": "stdout",
     "output_type": "stream",
     "text": [
      "13\n",
      "753\n"
     ]
    }
   ],
   "source": [
    "def RemoveStopWords(stopWords, text):\n",
    "    return [Tweet(tweet.id,\n",
    "                     [w for w in tweet.text if w not in stopWords and len(w)>2],\n",
    "                  bounding_box = tweet.bounding_box,    \n",
    "                  coordinates = tweet.coordinates)\n",
    "                for tweet in text]\n",
    "\n",
    "class Tweet:\n",
    "    def __init__(self, id, text, bounding_box = None, coordinates = None):\n",
    "        self.id = id\n",
    "        self.text = text\n",
    "        if bounding_box == None:\n",
    "            self.bounding_box = []\n",
    "        else:\n",
    "            self.bounding_box = bounding_box\n",
    "        self.coordinates = coordinates\n",
    "\n",
    "exact_values = [Tweet(json.loads(line)[\"_id\"][\"$numberLong\"].encode(\"utf-8\"),\n",
    "                filter(None,re.split('[^a-z]', \n",
    "                    json.loads(line)[\"text\"].lower().encode(\"utf-8\"))),\n",
    "                coordinates = json.loads(line)[\"coordinates\"][\"coordinates\"])\n",
    "                for line \n",
    "                in open(\"actual_data/exact.json\")]\n",
    "stopWords = set(stopwords.words('english'))\n",
    "exact_values = RemoveStopWords(stopWords, exact_values)\n",
    "\n",
    "bbox_values = [Tweet(json.loads(line)[\"_id\"][\"$numberLong\"].encode(\"utf-8\"),\n",
    "                filter(None,re.split('[^a-z]', \n",
    "                    json.loads(line)[\"text\"].lower().encode(\"utf-8\"))),\n",
    "                bounding_box = json.loads(line)[\"place\"][\"bounding_box\"][\"coordinates\"][0])\n",
    "                for line \n",
    "                in open(\"actual_data/bbox.json\")]\n",
    "bbox_values = RemoveStopWords(stopWords, bbox_values)\n",
    "\n",
    "exact = [value.text for value in exact_values + bbox_values]\n",
    "#flatten the list of lists to 1d array\n",
    "exact_flatten = [item for sublist in exact for item in sublist]\n",
    "#remove duplicates\n",
    "exact_dict = {w:'' for w in exact_flatten}\n",
    "#enumerate without duplicates\n",
    "exact_enum = {w: idx for idx, w in enumerate(exact_dict)}\n",
    "\n",
    "exact_matrix = np.zeros((len(exact_values+bbox_values), len(exact_enum)), dtype=int) \n",
    "d = dict()\n",
    "for idx, tweet in enumerate(exact_values + bbox_values):\n",
    "    d[tweet.id] = idx\n",
    "    for w in tweet.text:\n",
    "        exact_matrix[idx,exact_enum[w]] += 1\n",
    "\n",
    "from shapely.geometry import Point\n",
    "from shapely.geometry.polygon import Polygon\n",
    "\n",
    "from lshash import LSHash\n",
    "i=0\n",
    "for tweet in bbox_values:\n",
    "    inside_tweets = [value for value in exact_values \n",
    "                     if Polygon(tweet.bounding_box).contains(\n",
    "                     Point(value.coordinates))]\n",
    "    lsh = LSHash(12, len(exact_enum))\n",
    "    if len(inside_tweets)<3: continue\n",
    "    for insider in inside_tweets: \n",
    "        lsh.index(exact_matrix[d[insider.id]])\n",
    "    \n",
    "    cs = lsh.query(exact_matrix[d[tweet.id]], num_results=3)\n",
    "    points = []\n",
    "    for insider in inside_tweets:\n",
    "        if exact_matrix[d[insider.id]] in cs:\n",
    "            points.append(insider.coordinates)\n",
    "    if len(cs)!=0:\n",
    "        i+=1\n",
    "print i\n",
    "print len(bbox_values)"
   ]
  },
  {
   "cell_type": "code",
   "execution_count": null,
   "metadata": {
    "collapsed": true
   },
   "outputs": [],
   "source": []
  }
 ],
 "metadata": {
  "kernelspec": {
   "display_name": "Python 2",
   "language": "python",
   "name": "python2"
  },
  "language_info": {
   "codemirror_mode": {
    "name": "ipython",
    "version": 2
   },
   "file_extension": ".py",
   "mimetype": "text/x-python",
   "name": "python",
   "nbconvert_exporter": "python",
   "pygments_lexer": "ipython2",
   "version": "2.7.14"
  }
 },
 "nbformat": 4,
 "nbformat_minor": 2
}
