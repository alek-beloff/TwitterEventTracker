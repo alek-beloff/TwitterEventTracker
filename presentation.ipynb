{
 "cells": [
  {
   "cell_type": "code",
   "execution_count": 1,
   "metadata": {},
   "outputs": [
    {
     "data": {
      "application/vnd.jupyter.widget-view+json": {
       "model_id": "855a31a5fdc9476cbf5095decada4659",
       "version_major": 2,
       "version_minor": 0
      },
      "text/html": [
       "<p>Failed to display Jupyter Widget of type <code>Button</code>.</p>\n",
       "<p>\n",
       "  If you're reading this message in Jupyter Notebook or JupyterLab, it may mean\n",
       "  that the widgets JavaScript is still loading. If this message persists, it\n",
       "  likely means that the widgets JavaScript library is either not installed or\n",
       "  not enabled. See the <a href=\"https://ipywidgets.readthedocs.io/en/stable/user_install.html\">Jupyter\n",
       "  Widgets Documentation</a> for setup instructions.\n",
       "</p>\n",
       "<p>\n",
       "  If you're reading this message in another notebook frontend (for example, a static\n",
       "  rendering on GitHub or <a href=\"https://nbviewer.jupyter.org/\">NBViewer</a>),\n",
       "  it may mean that your frontend doesn't currently support widgets.\n",
       "</p>\n"
      ],
      "text/plain": [
       "Button(description='Install Packages', style=ButtonStyle())"
      ]
     },
     "metadata": {},
     "output_type": "display_data"
    }
   ],
   "source": [
    "import warnings\n",
    "warnings.filterwarnings('ignore')\n",
    "\n",
    "import ipywidgets as widgets\n",
    "from IPython.display import display\n",
    "from IPython.utils.traitlets import Unicode\n",
    "\n",
    "def installPackages(sender):\n",
    "    !pip install folium\n",
    "    !pip install tweepy\n",
    "install_btn = widgets.Button(description=\"Install Packages\")\n",
    "install_btn.on_click(installPackages) \n",
    "display(install_btn)"
   ]
  },
  {
   "cell_type": "code",
   "execution_count": 14,
   "metadata": {},
   "outputs": [
    {
     "data": {
      "application/vnd.jupyter.widget-view+json": {
       "model_id": "d7ecbe93d60d466caac8ef5657ad71c5",
       "version_major": 2,
       "version_minor": 0
      },
      "text/html": [
       "<p>Failed to display Jupyter Widget of type <code>PasswordWidget</code>.</p>\n",
       "<p>\n",
       "  If you're reading this message in Jupyter Notebook or JupyterLab, it may mean\n",
       "  that the widgets JavaScript is still loading. If this message persists, it\n",
       "  likely means that the widgets JavaScript library is either not installed or\n",
       "  not enabled. See the <a href=\"https://ipywidgets.readthedocs.io/en/stable/user_install.html\">Jupyter\n",
       "  Widgets Documentation</a> for setup instructions.\n",
       "</p>\n",
       "<p>\n",
       "  If you're reading this message in another notebook frontend (for example, a static\n",
       "  rendering on GitHub or <a href=\"https://nbviewer.jupyter.org/\">NBViewer</a>),\n",
       "  it may mean that your frontend doesn't currently support widgets.\n",
       "</p>\n"
      ],
      "text/plain": [
       "PasswordWidget(value='', placeholder='Input connection string of your MongoDB')"
      ]
     },
     "metadata": {},
     "output_type": "display_data"
    },
    {
     "data": {
      "application/vnd.jupyter.widget-view+json": {
       "model_id": "ad7ab091d9e84b48966869a14eef086b",
       "version_major": 2,
       "version_minor": 0
      },
      "text/html": [
       "<p>Failed to display Jupyter Widget of type <code>Button</code>.</p>\n",
       "<p>\n",
       "  If you're reading this message in Jupyter Notebook or JupyterLab, it may mean\n",
       "  that the widgets JavaScript is still loading. If this message persists, it\n",
       "  likely means that the widgets JavaScript library is either not installed or\n",
       "  not enabled. See the <a href=\"https://ipywidgets.readthedocs.io/en/stable/user_install.html\">Jupyter\n",
       "  Widgets Documentation</a> for setup instructions.\n",
       "</p>\n",
       "<p>\n",
       "  If you're reading this message in another notebook frontend (for example, a static\n",
       "  rendering on GitHub or <a href=\"https://nbviewer.jupyter.org/\">NBViewer</a>),\n",
       "  it may mean that your frontend doesn't currently support widgets.\n",
       "</p>\n"
      ],
      "text/plain": [
       "Button(description='Login', style=ButtonStyle())"
      ]
     },
     "metadata": {},
     "output_type": "display_data"
    },
    {
     "name": "stdout",
     "output_type": "stream",
     "text": [
      "Connection established successfully\n"
     ]
    }
   ],
   "source": [
    "from pymongo import MongoClient\n",
    "\n",
    "from IPython.utils.traitlets import Unicode\n",
    "\n",
    "class PasswordWidget(widgets.Textarea):\n",
    "    _view_name = Unicode('PasswordView', sync=True)\n",
    "\n",
    "\n",
    "uri = PasswordWidget(placeholder='Input connection string of your MongoDB')\n",
    "login_btn = widgets.Button(description=\"Login\")\n",
    "\n",
    "def login(sender):\n",
    "    try:\n",
    "        client = MongoClient(uri.value)\n",
    "        global db\n",
    "        db = client.twitterdb\n",
    "        print('Connection established successfully')\n",
    "    except ValueError:\n",
    "        print(ValueError)\n",
    "\n",
    "login_btn.on_click(login)\n",
    "\n",
    "display(uri, login_btn)"
   ]
  },
  {
   "cell_type": "code",
   "execution_count": 20,
   "metadata": {},
   "outputs": [
    {
     "name": "stdout",
     "output_type": "stream",
     "text": [
      "twitter is connected\n"
     ]
    }
   ],
   "source": [
    "import tweepy\n",
    "\n",
    "access_token = \"917416602634768385-pXPkTeyW9vaysd4vZflYm2pZckkIeDn\"\n",
    "access_token_secret = \"HweGKohJFWSMPDj1LwjoNExGIj1K2e7ApHdHpA7fcwl7F\"\n",
    "consumer_key = \"r8dh3IsvxNOMH2UjSIoM00gnN\"\n",
    "consumer_secret = \"0SqGVySPhZ8ngMYnQ05W8KPctMp8jbXGSdCo0qKxMYKwcewIrZ\"\n",
    "\n",
    "#access_token = \"438291047-AWXl0LpNxZzjhdFA3FH7AJHtmLRK52QDJiKzq5Wz\"\n",
    "#access_token_secret = \"o3kZKFF2s9ctgVpfDVRRpMbg6BMsGUIFWlJm9wSysKyyY\"\n",
    "#consumer_key = \"q4utaFepGhE5OjujyoruBOoQg\"\n",
    "#consumer_secret = \"D5K3P5URNUTxKnoVnggiUFsNapuNLOSx5cB7Zh6Y4HhpBhhtNy\"\n",
    "\n",
    "#consumer_key = 'cwuOhOSiMHaqSjUsyfYRVltuE'\n",
    "#consumer_secret = 'JBZWaPi3ldDHgMo6NPr8MbRKEU2iHBW7xVzL094HjsoX33K4eJ'\n",
    "#access_token = '842632842207203328-cNbwTaG4eW4rbQJwaG4RxtZkHJ51SoO'\n",
    "#access_token_secret = 'IhypdlKWPYtpKJ8aWevWTPTyeTbtmffVRGsFcF9hXkQQg'\n",
    "\n",
    "auth = tweepy.OAuthHandler(consumer_key, consumer_secret)\n",
    "auth.set_access_token(access_token, access_token_secret)\n",
    "\n",
    "api = tweepy.API(auth)\n",
    "\n",
    "print('twitter is connected')"
   ]
  },
  {
   "cell_type": "code",
   "execution_count": 4,
   "metadata": {},
   "outputs": [
    {
     "data": {
      "application/vnd.jupyter.widget-view+json": {
       "model_id": "b4cc6c2d61eb4513a8fb8768c022df50",
       "version_major": 2,
       "version_minor": 0
      },
      "text/html": [
       "<p>Failed to display Jupyter Widget of type <code>Button</code>.</p>\n",
       "<p>\n",
       "  If you're reading this message in Jupyter Notebook or JupyterLab, it may mean\n",
       "  that the widgets JavaScript is still loading. If this message persists, it\n",
       "  likely means that the widgets JavaScript library is either not installed or\n",
       "  not enabled. See the <a href=\"https://ipywidgets.readthedocs.io/en/stable/user_install.html\">Jupyter\n",
       "  Widgets Documentation</a> for setup instructions.\n",
       "</p>\n",
       "<p>\n",
       "  If you're reading this message in another notebook frontend (for example, a static\n",
       "  rendering on GitHub or <a href=\"https://nbviewer.jupyter.org/\">NBViewer</a>),\n",
       "  it may mean that your frontend doesn't currently support widgets.\n",
       "</p>\n"
      ],
      "text/plain": [
       "Button(description='Stream Data', style=ButtonStyle())"
      ]
     },
     "metadata": {},
     "output_type": "display_data"
    }
   ],
   "source": [
    "import json\n",
    "\n",
    "class MyStreamListener(tweepy.StreamListener):\n",
    "\n",
    "    def on_data(self, raw_data):\n",
    "        json_data = json.loads(raw_data)\n",
    "        post_id = db.twitter_data.insert_one(json_data).inserted_id\n",
    "        print(post_id)\n",
    "    def on_error(self, status_code):\n",
    "        if status_code == 420:\n",
    "            # returning False in on_data disconnects the stream\n",
    "            return False\n",
    "        \n",
    "def streamDataFromGlasgow(sender):\n",
    "    myStream = tweepy.Stream(auth = api.auth, listener=MyStreamListener())\n",
    "    #myStream.filter(locations=[-4.50,55.79,-3.97,55.93], async=True)\n",
    "stream_btn = widgets.Button(description=\"Stream Data\")\n",
    "stream_btn.on_click(streamDataFromGlasgow) \n",
    "display(stream_btn)"
   ]
  },
  {
   "cell_type": "code",
   "execution_count": 5,
   "metadata": {},
   "outputs": [
    {
     "data": {
      "application/vnd.jupyter.widget-view+json": {
       "model_id": "4691161085324b7583dabe71aebeb295",
       "version_major": 2,
       "version_minor": 0
      },
      "text/html": [
       "<p>Failed to display Jupyter Widget of type <code>Button</code>.</p>\n",
       "<p>\n",
       "  If you're reading this message in Jupyter Notebook or JupyterLab, it may mean\n",
       "  that the widgets JavaScript is still loading. If this message persists, it\n",
       "  likely means that the widgets JavaScript library is either not installed or\n",
       "  not enabled. See the <a href=\"https://ipywidgets.readthedocs.io/en/stable/user_install.html\">Jupyter\n",
       "  Widgets Documentation</a> for setup instructions.\n",
       "</p>\n",
       "<p>\n",
       "  If you're reading this message in another notebook frontend (for example, a static\n",
       "  rendering on GitHub or <a href=\"https://nbviewer.jupyter.org/\">NBViewer</a>),\n",
       "  it may mean that your frontend doesn't currently support widgets.\n",
       "</p>\n"
      ],
      "text/plain": [
       "Button(description='Start map', style=ButtonStyle())"
      ]
     },
     "metadata": {},
     "output_type": "display_data"
    }
   ],
   "source": [
    "import folium\n",
    "import re\n",
    "import numpy as np\n",
    "import math\n",
    "\n",
    "def startMap(sender):\n",
    "    m = folium.Map(location=[(55.79+55.93)/2, (-4.50-3.97)/2])\n",
    "    filter = \"is\"\n",
    "    regx = re.compile(\".*\"+filter+\".*\", re.IGNORECASE)\n",
    "    posts = db.twitter_data.find({\"text\": regx})\n",
    "    for post in posts:\n",
    "            x0 = post[\"place\"][\"bounding_box\"][\"coordinates\"][0][0][0]\n",
    "            x1 = post[\"place\"][\"bounding_box\"][\"coordinates\"][0][1][0]\n",
    "            x2 = post[\"place\"][\"bounding_box\"][\"coordinates\"][0][2][0]\n",
    "            y0 = post[\"place\"][\"bounding_box\"][\"coordinates\"][0][0][1]\n",
    "            y1 = post[\"place\"][\"bounding_box\"][\"coordinates\"][0][1][1]\n",
    "            y2 = post[\"place\"][\"bounding_box\"][\"coordinates\"][0][2][1]\n",
    "            sq = np.square([x1-x0, y1-y0, x2-x1, y2-y1])\n",
    "            sqrts = np.sqrt([sq[0]+sq[1], sq[2]+sq[3]])\n",
    "            L1 = sqrts[0]\n",
    "            L2 = sqrts[1]\n",
    "            R = math.sqrt(L1**2 + L2**2)\n",
    "            centre=[(y2+y0)/2, (x2+x0)/2]\n",
    "            text = ''.join(e for e in post[\"text\"] if e.isalnum() or e==' ')[:40]\n",
    "            text = '<i>' + text + '</i>'\n",
    "            if (R>1.0):\n",
    "                folium.CircleMarker(centre, radius=R, popup=text,\n",
    "                                color='#3186cc', fill_color='#3186cc').add_to(m)\n",
    "            else:\n",
    "                folium.Marker(centre, popup=text,\n",
    "                             icon=folium.Icon(color='green',icon='info-sign')).add_to(m)\n",
    "    display(m)\n",
    "                \n",
    "start_btn = widgets.Button(description=\"Start map\")  \n",
    "start_btn.on_click(startMap)\n",
    "\n",
    "display(start_btn)"
   ]
  },
  {
   "cell_type": "code",
   "execution_count": 22,
   "metadata": {},
   "outputs": [
    {
     "data": {
      "application/vnd.jupyter.widget-view+json": {
       "model_id": "7af99ba43d6d4f0395e8a6373f95635e",
       "version_major": 2,
       "version_minor": 0
      },
      "text/html": [
       "<p>Failed to display Jupyter Widget of type <code>Button</code>.</p>\n",
       "<p>\n",
       "  If you're reading this message in Jupyter Notebook or JupyterLab, it may mean\n",
       "  that the widgets JavaScript is still loading. If this message persists, it\n",
       "  likely means that the widgets JavaScript library is either not installed or\n",
       "  not enabled. See the <a href=\"https://ipywidgets.readthedocs.io/en/stable/user_install.html\">Jupyter\n",
       "  Widgets Documentation</a> for setup instructions.\n",
       "</p>\n",
       "<p>\n",
       "  If you're reading this message in another notebook frontend (for example, a static\n",
       "  rendering on GitHub or <a href=\"https://nbviewer.jupyter.org/\">NBViewer</a>),\n",
       "  it may mean that your frontend doesn't currently support widgets.\n",
       "</p>\n"
      ],
      "text/plain": [
       "Button(description='Take Data', style=ButtonStyle())"
      ]
     },
     "metadata": {},
     "output_type": "display_data"
    }
   ],
   "source": [
    "def decodeData(status):\n",
    "    return {\n",
    "        \"retweet_count\": status.retweet_count,\n",
    "        \"favorited\": status.favorited,\n",
    "        \"in_reply_to_user_id\": status.in_reply_to_user_id,\n",
    "        \"created_at\": status.created_at,\n",
    "        \"coordinates\": status.coordinates,\n",
    "        \"user\": {\n",
    "            \"created_at\": status.user.created_at,\n",
    "            \"geo_enabled\": status.user.geo_enabled,\n",
    "            \"lang\": status.user.lang,\n",
    "            \"url\": status.user.url,\n",
    "            \"description\": status.user.description,\n",
    "            \"time_zone\": status.user.time_zone,\n",
    "            \"location\": status.user.location,\n",
    "            \"screen_name\": status.user.screen_name,\n",
    "            \"protected\": status.user.protected,\n",
    "            \"statuses_count\": status.user.statuses_count,\n",
    "            \"profile_image_url_https\": status.user.profile_image_url_https,\n",
    "            \"utc_offset\": status.user.utc_offset,\n",
    "            \"followers_count\": status.user.followers_count,\n",
    "            \"id\": status.user.id,\n",
    "            \"id_str\": status.user.id_str,\n",
    "            \"name\": status.user.name,\n",
    "            \"friends_count\": status.user.friends_count,\n",
    "        },\n",
    "        \"retweeted\": status.user.retweeted,\n",
    "        \"geo\": status.user.geo,\n",
    "        \"id\": status.id,\n",
    "        \"text\": status.text,\n",
    "        \"lang\": status.lang,\n",
    "        \"in_reply_to_user_id_str\": status.in_reply_to_user_id_str,\n",
    "        \"id_str\": status.id_str\n",
    "    }\n",
    "\n",
    "def getHistoricalStatuses(sender):\n",
    "    statuses = list(tweepy.Cursor(api.search,\n",
    "        q=\"is\",\n",
    "        geocode=\"55.85,-4.25,10km\",\n",
    "        since=\"2017-10-20\",\n",
    "        #until=\"2017-10-21\",\n",
    "        lang=\"en\").pages())\n",
    "\n",
    "    geo_enabled_statuses = [status for status in statuses[0] if status.place!=None]\n",
    "    db.twitter_historical_data.update(geo_enabled_statuses, geo_enabled_statuses, upsert = True)\n",
    "    \n",
    "history_btn = widgets.Button(description=\"Take Data\")  \n",
    "history_btn.on_click(getHistoricalStatuses)\n",
    "\n",
    "display(history_btn)"
   ]
  },
  {
   "cell_type": "code",
   "execution_count": null,
   "metadata": {
    "collapsed": true
   },
   "outputs": [],
   "source": []
  }
 ],
 "metadata": {
  "kernelspec": {
   "display_name": "Python 3",
   "language": "python",
   "name": "python3"
  },
  "language_info": {
   "codemirror_mode": {
    "name": "ipython",
    "version": 3
   },
   "file_extension": ".py",
   "mimetype": "text/x-python",
   "name": "python",
   "nbconvert_exporter": "python",
   "pygments_lexer": "ipython3",
   "version": "3.6.1"
  }
 },
 "nbformat": 4,
 "nbformat_minor": 1
}
