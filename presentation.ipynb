{
 "cells": [
  {
   "cell_type": "code",
   "execution_count": 1,
   "metadata": {},
   "outputs": [
    {
     "data": {
      "application/vnd.jupyter.widget-view+json": {
       "model_id": "230a138a5ad848e78ea796634740fed5",
       "version_major": 2,
       "version_minor": 0
      },
      "text/plain": [
       "A Jupyter Widget"
      ]
     },
     "metadata": {},
     "output_type": "display_data"
    }
   ],
   "source": [
    "import warnings\n",
    "warnings.filterwarnings('ignore')\n",
    "\n",
    "import ipywidgets as widgets\n",
    "from IPython.display import display\n",
    "from IPython.utils.traitlets import Unicode\n",
    "\n",
    "def installPackages(sender):\n",
    "    !pip install folium\n",
    "    !pip install tweepy\n",
    "    !pip install pymongo\n",
    "install_btn = widgets.Button(description=\"Install Packages\")\n",
    "install_btn.on_click(installPackages) \n",
    "display(install_btn)"
   ]
  },
  {
   "cell_type": "code",
   "execution_count": 2,
   "metadata": {},
   "outputs": [
    {
     "data": {
      "application/vnd.jupyter.widget-view+json": {
       "model_id": "dce4d51573b94084883f484733383c59",
       "version_major": 2,
       "version_minor": 0
      },
      "text/plain": [
       "A Jupyter Widget"
      ]
     },
     "metadata": {},
     "output_type": "display_data"
    },
    {
     "data": {
      "application/vnd.jupyter.widget-view+json": {
       "model_id": "7f89965a6cba4cdd9d02e540b859002a",
       "version_major": 2,
       "version_minor": 0
      },
      "text/plain": [
       "A Jupyter Widget"
      ]
     },
     "metadata": {},
     "output_type": "display_data"
    },
    {
     "name": "stdout",
     "output_type": "stream",
     "text": [
      "Connection established successfully\n"
     ]
    }
   ],
   "source": [
    "from pymongo import MongoClient\n",
    "\n",
    "from IPython.utils.traitlets import Unicode\n",
    "\n",
    "class PasswordWidget(widgets.Textarea):\n",
    "    _view_name = Unicode('PasswordView', sync=True)\n",
    "\n",
    "\n",
    "uri = PasswordWidget(placeholder='Input connection string of your MongoDB')\n",
    "login_btn = widgets.Button(description=\"Login\")\n",
    "\n",
    "def login(sender):\n",
    "    try:\n",
    "        client = MongoClient(uri.value)\n",
    "        global db\n",
    "        db = client.twitterdb\n",
    "        print('Connection established successfully')\n",
    "    except ValueError:\n",
    "        print(ValueError)\n",
    "\n",
    "login_btn.on_click(login)\n",
    "\n",
    "display(uri, login_btn)"
   ]
  },
  {
   "cell_type": "code",
   "execution_count": 3,
   "metadata": {},
   "outputs": [
    {
     "name": "stdout",
     "output_type": "stream",
     "text": [
      "twitter is connected\n"
     ]
    }
   ],
   "source": [
    "import tweepy\n",
    "\n",
    "#access_token = \"917416602634768385-pXPkTeyW9vaysd4vZflYm2pZckkIeDn\"\n",
    "#access_token_secret = \"HweGKohJFWSMPDj1LwjoNExGIj1K2e7ApHdHpA7fcwl7F\"\n",
    "#consumer_key = \"r8dh3IsvxNOMH2UjSIoM00gnN\"\n",
    "#consumer_secret = \"0SqGVySPhZ8ngMYnQ05W8KPctMp8jbXGSdCo0qKxMYKwcewIrZ\"\n",
    "\n",
    "access_token = \"438291047-AWXl0LpNxZzjhdFA3FH7AJHtmLRK52QDJiKzq5Wz\"\n",
    "access_token_secret = \"o3kZKFF2s9ctgVpfDVRRpMbg6BMsGUIFWlJm9wSysKyyY\"\n",
    "consumer_key = \"q4utaFepGhE5OjujyoruBOoQg\"\n",
    "consumer_secret = \"D5K3P5URNUTxKnoVnggiUFsNapuNLOSx5cB7Zh6Y4HhpBhhtNy\"\n",
    "\n",
    "#consumer_key = 'cwuOhOSiMHaqSjUsyfYRVltuE'\n",
    "#consumer_secret = 'JBZWaPi3ldDHgMo6NPr8MbRKEU2iHBW7xVzL094HjsoX33K4eJ'\n",
    "#access_token = '842632842207203328-cNbwTaG4eW4rbQJwaG4RxtZkHJ51SoO'\n",
    "#access_token_secret = 'IhypdlKWPYtpKJ8aWevWTPTyeTbtmffVRGsFcF9hXkQQg'\n",
    "\n",
    "auth = tweepy.OAuthHandler(consumer_key, consumer_secret)\n",
    "auth.set_access_token(access_token, access_token_secret)\n",
    "\n",
    "api = tweepy.API(auth)\n",
    "\n",
    "print('twitter is connected')"
   ]
  },
  {
   "cell_type": "code",
   "execution_count": 4,
   "metadata": {},
   "outputs": [
    {
     "data": {
      "application/vnd.jupyter.widget-view+json": {
       "model_id": "e8822d42c11d4e418fe6a726a9ccfbea",
       "version_major": 2,
       "version_minor": 0
      },
      "text/plain": [
       "A Jupyter Widget"
      ]
     },
     "metadata": {},
     "output_type": "display_data"
    }
   ],
   "source": [
    "import json\n",
    "\n",
    "class MyStreamListener(tweepy.StreamListener):\n",
    "\n",
    "    def on_data(self, raw_data):\n",
    "        json_data = json.loads(raw_data)\n",
    "        post_id = db.twitter_data.insert_one(json_data).inserted_id\n",
    "        print(post_id)\n",
    "    def on_error(self, status_code):\n",
    "        if status_code == 420:\n",
    "            # returning False in on_data disconnects the stream\n",
    "            return False\n",
    "        \n",
    "def streamDataFromGlasgow(sender):\n",
    "    myStream = tweepy.Stream(auth = api.auth, listener=MyStreamListener())\n",
    "    #myStream.filter(locations=[-4.50,55.79,-3.97,55.93], async=True)\n",
    "stream_btn = widgets.Button(description=\"Stream Data\")\n",
    "stream_btn.on_click(streamDataFromGlasgow) \n",
    "display(stream_btn)"
   ]
  },
  {
   "cell_type": "code",
   "execution_count": 5,
   "metadata": {},
   "outputs": [
    {
     "data": {
      "application/vnd.jupyter.widget-view+json": {
       "model_id": "48888f3f8fa1493aa4f82cf2a7f672c2",
       "version_major": 2,
       "version_minor": 0
      },
      "text/plain": [
       "A Jupyter Widget"
      ]
     },
     "metadata": {},
     "output_type": "display_data"
    }
   ],
   "source": [
    "import folium\n",
    "import re\n",
    "import numpy as np\n",
    "import math\n",
    "\n",
    "def startMap(sender):\n",
    "    m = folium.Map(location=[(55.79+55.93)/2, (-4.50-3.97)/2])\n",
    "    filter = \"is\"\n",
    "    regx = re.compile(\".*\"+filter+\".*\", re.IGNORECASE)\n",
    "    posts = db.twitter_data.find({\"text\": regx})\n",
    "    for post in posts:\n",
    "            x0 = post[\"place\"][\"bounding_box\"][\"coordinates\"][0][0][0]\n",
    "            x1 = post[\"place\"][\"bounding_box\"][\"coordinates\"][0][1][0]\n",
    "            x2 = post[\"place\"][\"bounding_box\"][\"coordinates\"][0][2][0]\n",
    "            y0 = post[\"place\"][\"bounding_box\"][\"coordinates\"][0][0][1]\n",
    "            y1 = post[\"place\"][\"bounding_box\"][\"coordinates\"][0][1][1]\n",
    "            y2 = post[\"place\"][\"bounding_box\"][\"coordinates\"][0][2][1]\n",
    "            sq = np.square([x1-x0, y1-y0, x2-x1, y2-y1])\n",
    "            sqrts = np.sqrt([sq[0]+sq[1], sq[2]+sq[3]])\n",
    "            L1 = sqrts[0]\n",
    "            L2 = sqrts[1]\n",
    "            R = math.sqrt(L1**2 + L2**2)\n",
    "            centre=[(y2+y0)/2, (x2+x0)/2]\n",
    "            text = ''.join(e for e in post[\"text\"] if e.isalnum() or e==' ')[:40]\n",
    "            text = '<i>' + text + '</i>'\n",
    "            if (R>1.0):\n",
    "                folium.CircleMarker(centre, radius=R, popup=text,\n",
    "                                color='#3186cc', fill_color='#3186cc').add_to(m)\n",
    "            else:\n",
    "                folium.Marker(centre, popup=text,\n",
    "                             icon=folium.Icon(color='green',icon='info-sign')).add_to(m)\n",
    "    display(m)\n",
    "                \n",
    "start_btn = widgets.Button(description=\"Start map\")  \n",
    "start_btn.on_click(startMap)\n",
    "\n",
    "display(start_btn)"
   ]
  },
  {
   "cell_type": "code",
   "execution_count": null,
   "metadata": {},
   "outputs": [],
   "source": [
    "def decodeData(status):\n",
    "    return {\n",
    "        \"retweet_count\": status.retweet_count,\n",
    "        \"favorited\": status.favorited,\n",
    "        \"in_reply_to_user_id\": status.in_reply_to_user_id,\n",
    "        \"created_at\": status.created_at,\n",
    "        \"coordinates\": status.coordinates,\n",
    "        \"user\": {\n",
    "            \"created_at\": status.user.created_at,\n",
    "            \"geo_enabled\": status.user.geo_enabled,\n",
    "            \"lang\": status.user.lang,\n",
    "            \"url\": status.user.url,\n",
    "            \"description\": status.user.description,\n",
    "            \"time_zone\": status.user.time_zone,\n",
    "            \"location\": status.user.location,\n",
    "            \"screen_name\": status.user.screen_name,\n",
    "            \"protected\": status.user.protected,\n",
    "            \"statuses_count\": status.user.statuses_count,\n",
    "            \"profile_image_url_https\": status.user.profile_image_url_https,\n",
    "            \"utc_offset\": status.user.utc_offset,\n",
    "            \"followers_count\": status.user.followers_count,\n",
    "            \"id\": status.user.id,\n",
    "            \"id_str\": status.user.id_str,\n",
    "            \"name\": status.user.name,\n",
    "            \"friends_count\": status.user.friends_count,\n",
    "        },\n",
    "        \"retweeted\": status.retweeted,\n",
    "        \"place\": {\n",
    "            \"country_code\": status.place.country_code,\n",
    "            \"country\": status.place.country,\n",
    "            \"name\": status.place.name,\n",
    "            \"full_name\": status.place.full_name,\n",
    "            \"id\": status.place.id,\n",
    "            \"bounding_box\": {\n",
    "                \"type\": status.place.bounding_box.type,\n",
    "                \"coordinates\": status.place.bounding_box.coordinates\n",
    "            }\n",
    "        },\n",
    "        \"geo\": status.geo,\n",
    "        \"id\": status.id,\n",
    "        \"text\": status.text,\n",
    "        \"lang\": status.lang,\n",
    "        \"in_reply_to_user_id_str\": status.in_reply_to_user_id_str,\n",
    "        \"id_str\": status.id_str\n",
    "    }\n",
    "\n",
    "def getHistoricalStatuses(sender):\n",
    "    c = tweepy.Cursor(api.search,\n",
    "        geocode=\"55.85,-4.25,10km\",\n",
    "        since=\"2017-10-29\",\n",
    "        include_entities=True,\n",
    "        #until=\"2017-10-21\",\n",
    "        lang=\"en\").items()\n",
    "    \n",
    "    import time\n",
    "    \n",
    "    while True:\n",
    "        try:\n",
    "            tweet = c.next()\n",
    "            if tweet.place==None:\n",
    "                continue\n",
    "            print(tweet)\n",
    "            d = decodedData(tweet)\n",
    "            res = db.twitter_historical_data.update_one({\"id\" : tweet.id}, {'$set': d}, upsert = True)\n",
    "            print(res.matched_count)\n",
    "            print(res.modified_count)\n",
    "        except tweepy.TweepError:\n",
    "            print(\"tweepError. Sleep\")\n",
    "            time.sleep(60 * 15)\n",
    "            continue\n",
    "        except StopIteration:\n",
    "            print(\"Stopping Iteration\")\n",
    "            break\n",
    "    \n",
    "history_btn = widgets.Button(description=\"Take Data\")  \n",
    "history_btn.on_click(getHistoricalStatuses)\n",
    "\n",
    "display(history_btn)"
   ]
  },
  {
   "cell_type": "code",
   "execution_count": null,
   "metadata": {
    "collapsed": true
   },
   "outputs": [],
   "source": []
  }
 ],
 "metadata": {
  "kernelspec": {
   "display_name": "Python 3",
   "language": "python",
   "name": "python3"
  },
  "language_info": {
   "codemirror_mode": {
    "name": "ipython",
    "version": 3
   },
   "file_extension": ".py",
   "mimetype": "text/x-python",
   "name": "python",
   "nbconvert_exporter": "python",
   "pygments_lexer": "ipython3",
   "version": "3.5.1"
  }
 },
 "nbformat": 4,
 "nbformat_minor": 1
}
