{
 "cells": [
  {
   "cell_type": "code",
   "execution_count": null,
   "metadata": {
    "collapsed": true
   },
   "outputs": [],
   "source": [
    "import ipywidgets\n",
    "import bqplot\n",
    "import numpy as np\n",
    "\n",
    "import bqplot.pyplot as plt\n",
    "from ipywidgets import FloatSlider\n",
    "print(ipywidgets.__version__)\n",
    "print(bqplot.__version__)\n",
    "\n",
    "fig = plt.figure()\n",
    "line = plt.plot([1, 2,3], [1, 2, 3])\n",
    "plt.show()\n",
    "n = FloatSlider()\n",
    "\n",
    "def changed(change):\n",
    "    line.y = np.arange(1, 4)**n.value\n",
    "\n",
    "n.observe(changed, 'value')\n",
    "n"
   ]
  }
 ],
 "metadata": {
  "kernelspec": {
   "display_name": "Python 2",
   "language": "python",
   "name": "python2"
  },
  "language_info": {
   "codemirror_mode": {
    "name": "ipython",
    "version": 2.0
   },
   "file_extension": ".py",
   "mimetype": "text/x-python",
   "name": "python",
   "nbconvert_exporter": "python",
   "pygments_lexer": "ipython2",
   "version": "2.7.6"
  }
 },
 "nbformat": 4,
 "nbformat_minor": 0
}